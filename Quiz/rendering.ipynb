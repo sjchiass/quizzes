{
 "cells": [
  {
   "cell_type": "markdown",
   "metadata": {},
   "source": [
    "# Quiz \\#3: Rendering Shapes\n",
    "\n",
    "## Basic graphics in Python\n",
    "\n",
    "This quiz uses the Python Imaging Library (PIL) to draw various shapes into images. In later exercises, these shapes are moved, rotated, and eventually made in \"3D\" (perspective projection). This is a great opportunity to learn the wonderful `numpy` library.\n",
    "\n",
    "## Example output\n",
    "\n",
    "Using my code from this quiz, I created some \"spheres\" and made them orbit (rotate) around the origin, here it's the sun. As you can see, the illusion of distance comes from growing and shrinking the circles.\n",
    "\n",
    "![Solar system](./Images/orbit.gif)\n",
    "\n",
    "## How to use this quiz\n",
    "\n",
    "### On your computer\n",
    "\n",
    "* Instructions: https://jupyter.org/install\n",
    "\n",
    "If you have basic Python with pip, use `pip install jupyterlab` to install Jupyter lab. You can then download with `.ipynb` file to your computer, and then start `jupyter lab` to open it.\n",
    "\n",
    "If you have Anaconda, you can install Jupyter with `conda install -c conda-forge jupyterlab`.\n",
    "\n",
    "### With Google Colab\n",
    "\n",
    "Google Colab is a free hosted Jupyter Notebook: https://colab.research.google.com/notebooks/welcome.ipynb\n",
    "\n",
    "It allows you to open a Notebook from GitHub. Paste this Notebook's url into Colab to open it.\n",
    "\n",
    "In Google Colab, you can update Python packages with pip, for example `pip install pandas --upgrade`."
   ]
  },
  {
   "cell_type": "code",
   "execution_count": 1,
   "metadata": {},
   "outputs": [],
   "source": [
    "# You are likely to use these libraries\n",
    "from PIL import Image, ImageDraw\n",
    "import numpy as np"
   ]
  },
  {
   "cell_type": "code",
   "execution_count": 2,
   "metadata": {},
   "outputs": [],
   "source": [
    "# If you use the trick to display GIFs in Jupyter\n",
    "from IPython.display import HTML"
   ]
  },
  {
   "cell_type": "markdown",
   "metadata": {},
   "source": [
    "# Exercise 1: draw a square\n",
    "\n",
    "Pillow is a a fork of PIL (Python Imaging Library). It lets you work with images in Python. You can use it to draw shapes onto a canvas, animate GIFs, and save images to file. It's like MSPaint or a mini-photoshop in your Python session.\n",
    "\n",
    "* PIL documentation: https://pillow.readthedocs.io/en/stable/\n",
    "\n",
    "We'll start with drawing basic shapes onto a canvas.\n",
    "\n",
    "* Image class documentation: https://pillow.readthedocs.io/en/stable/reference/Image.html\n",
    "* Draw module documentation: https://pillow.readthedocs.io/en/stable/reference/ImageDraw.html\n",
    "\n",
    "When drawing shapes, remember that 0,0 is at the top left of the canvas.\n",
    "\n",
    "**Goal: draw a rectangle, an ellipse, and an equilateral triangle.**"
   ]
  },
  {
   "cell_type": "code",
   "execution_count": 3,
   "metadata": {},
   "outputs": [
    {
     "data": {
      "image/png": "[encoded data removed]",
      "text/plain": [
       "<PIL.Image.Image image mode=RGB size=250x250 at 0x7FA517BC7AC8>"
      ]
     },
     "execution_count": 3,
     "metadata": {},
     "output_type": "execute_result"
    }
   ],
   "source": [
    "# Start a new blank canvas\n",
    "image = Image.new(\"RGB\", (250, 250))\n",
    "\n",
    "# Use the draw object to draw objects\n",
    "draw = ImageDraw.Draw(image)\n",
    "\n",
    "# For example, here is an arc\n",
    "draw.arc(xy=[(10, 10), (100, 100)],\n",
    "         start=45,\n",
    "         end=180,\n",
    "         fill=\"white\",\n",
    "         width=5)\n",
    "\n",
    "# In Jupyter, this will display the image\n",
    "image\n",
    "\n",
    "# Goal: draw the following:\n",
    "#       a) a rectangle\n",
    "#       b) an ellipse\n",
    "#       c) an equilateral triangle"
   ]
  },
  {
   "cell_type": "markdown",
   "metadata": {},
   "source": [
    "# Exercise 2: Draw a chessboard pattern\n",
    "\n",
    "Using the Pillow library, draw a checkerboard pattern onto the canvas. The size, position, and color don't matter as long as it looks vaguely like a checkerboard pattern.\n",
    "\n",
    "![Checkerboard](./Images/checkerboard.jpg)\n",
    "\n",
    "## Hints\n",
    "\n",
    "* The PIL library wants its inner coordinates in tuples, like this: `[(x1, y1), (x2, y2)]` In Python the round parentheses `( )` signify a tuple, the square brackets `[ ]` signify a list.\n",
    "    * If you have a nested list like this `coords = [[x1, y1], [x2, y2]]` you can convert it like this `coords = [tuple(i) for i in coords]` which will give `[(x1, y1), (x2, y2)]`\n",
    "\n",
    "**Goal: draw a checkerboard with PIL**"
   ]
  },
  {
   "cell_type": "code",
   "execution_count": 4,
   "metadata": {},
   "outputs": [
    {
     "data": {
      "image/png": "[encoded data removed]",
      "text/plain": [
       "<PIL.Image.Image image mode=RGB size=500x500 at 0x7FA50D7BA6A0>"
      ]
     },
     "execution_count": 4,
     "metadata": {},
     "output_type": "execute_result"
    }
   ],
   "source": [
    "image = Image.new(\"RGB\", (500, 500))\n",
    "draw = ImageDraw.Draw(image)\n",
    "\n",
    "# Here is a starter example\n",
    "origin = np.array([25, 25])\n",
    "for i in range(5):\n",
    "    draw.rectangle(xy=[tuple(origin +     i*np.array([25, 25])),\n",
    "                       tuple(origin + (i+1)*np.array([25, 25]))],\n",
    "                  fill=\"white\")\n",
    "\n",
    "# In Jupyter, this will display the image\n",
    "image\n",
    "\n",
    "# Goal: draw a checkerboard pattern"
   ]
  },
  {
   "cell_type": "markdown",
   "metadata": {},
   "source": [
    "# Exercise 3: Transform a square\n",
    "\n",
    "Shapes can undergo several transformations:\n",
    "\n",
    "  * Translation (movement)\n",
    "  * Rotation\n",
    "  * Stretching (scaling)\n",
    "  * Shearing (slanting)\n",
    "  * Reflection (flipping)\n",
    "\n",
    "![Output](./Images/transformations.png)\n",
    "\n",
    "Translation is easy to grasp, but the other transformations are a bit more complicated. Luckily, Wikipedia has them all:\n",
    "\n",
    "* Transformation matrices: https://en.wikipedia.org/wiki/Transformation_matrix#Examples_in_2D_computer_graphics\n",
    "\n",
    "Matrices are a convenient way of transforming coordinates. With the right matrix, you can morph your shapes the way you want to. In order to apply these, you use the np.dot() function in numpy to perform a dot product.\n",
    "\n",
    "* A popular visual guide to linear transformations: https://www.youtube.com/watch?v=kYB8IZa5AuE\n",
    "* Matrix multiplication: https://www.youtube.com/watch?v=XkY2DOUCWMU\n",
    "\n",
    "## Hints\n",
    "\n",
    "* All computer graphics stuff I've seen use coordinates in column/vertical format. To switch between formats, use the `.transpose()` method on your numpy array. Example: `np.array([[1, 2]]).transpose() --> array([[1], [2]])`\n",
    "* The numpy documentation is very helpful.\n",
    "* You can find a matrix's size and shape with its .shape property.\n",
    "    * Example: `np.array([[1, 2]]).shape --> (2, 1)`\n",
    "* If you add a smaller matrix to a larger one, numpy will try to broadcast the smaller one. For example, you can add (0, 1) to a matrix of (x, y) coordinates to add 1 to each y coordinate.\n",
    "    * Here is a better explanation: https://docs.scipy.org/doc/numpy/user/basics.broadcasting.html\n",
    "\n",
    "**Goal: Given a square, translate it, rotate it, stretch it, shear it, and reflect it.**"
   ]
  },
  {
   "cell_type": "code",
   "execution_count": null,
   "metadata": {},
   "outputs": [],
   "source": []
  },
  {
   "cell_type": "markdown",
   "metadata": {},
   "source": [
    "# Exercise 4: Project a 3D checkerboard into 2D\n",
    "\n",
    "In order to view a 3D object on your computer monitor, it has to be \"squished\" into 2D. Imaging painting a scene onto canvas: how do you paint objects to make them seem real? When painting, you need to transform the 3D scene in your mind to a 2D representation on the canvas. You can do this with perspective.\n",
    "\n",
    "* Example of perspective: https://upload.wikimedia.org/wikipedia/commons/6/6b/One_point_perspective.jpg\n",
    "\n",
    "The transformation from 3D to 2D is a projection. In particular, this one is known as the perspective projection, a projection that gives the illusion of depth. Other projections are the orthogonal projection (seen in design diagrams) and the Mercator projection (squish the Earth into a rectangular map).\n",
    "\n",
    "* Information about 3D projections, including parallel projections: https://en.wikipedia.org/wiki/3D_projection\n",
    "  * In particular, SimCity used a military projection. See how building height is handled? https://commons.wikimedia.org/wiki/File:SimCity-Indigo.gif\n",
    "* Video animation demonstrating the Mercator projection: https://www.youtube.com/watch?v=CPQZ7NcQ6YQ\n",
    "\n",
    "For this exercise, transform your 2D checkerboard into 3D, tilt it back, and perform the perspective projection. It should look like this:\n",
    "\n",
    "![Checkered road](./Images/checker_road.jpg)\n",
    "\n",
    "As you can see, the perspective projection shears shapes to give the sense of depth.\n",
    "\n",
    "## Hints\n",
    "\n",
    "* There is a ton of resources on this topic online. If you Google the OpenGL graphics library, you can find out how it does 3D rendering.\n",
    "* 3D rendering is usually done in homogeneous coordinates, which are coordinates in $(x, y, z, w)$. The point $(x, y, z, w)$ becomes $(x/w, y/w, z/w)$ in Euclidean coordinates.\n",
    "\n",
    "**Goal: render a 3D checkboard onto a 2D image**"
   ]
  },
  {
   "cell_type": "code",
   "execution_count": null,
   "metadata": {},
   "outputs": [],
   "source": []
  },
  {
   "cell_type": "markdown",
   "metadata": {},
   "source": [
    "# Bonus 1: Render a spinning cube\n",
    "\n",
    "You can render a cube by rendering 6 square planes (polygons) together. This will work if these cube faces stay properly aligned with one another.\n",
    "\n",
    "In order to render a solid cube properly, you will need to know which surface to render over which. Objects that are nearer should cover those that are further away.\n",
    "\n",
    "* With multiple `Image` PIL objects, you can `.append` them into an animated GIF: https://pillow.readthedocs.io/en/stable/releasenotes/3.4.0.html#append-images-to-gif\n",
    "* You can open GIFs to view them, or you can display GIFs in Jupyter using HTML: https://github.com/ipython/ipython/issues/10045\n",
    "\n",
    "![Cube](./Images/cube.gif)\n",
    "\n",
    "**Goal: render a spinning 3D cube**"
   ]
  },
  {
   "cell_type": "code",
   "execution_count": null,
   "metadata": {},
   "outputs": [],
   "source": []
  },
  {
   "cell_type": "markdown",
   "metadata": {},
   "source": [
    "# Bonus 2: Apply diffuse lighting on the cube faces        \n",
    "\n",
    "Lighting is another concept in 3D graphics. Like perspective, it helps to add depth to an image.\n",
    "\n",
    "Diffuse lighting is a kind of lighting where a surface gets brighter as it faces a light source more directly. For example, with a single light source in a room, the sides of objects facing the light are bright; however, the other sides of the objects remain dark and unlit.\n",
    "\n",
    "In order to apply the diffuse lighting, you need to determine where each cube face is facing and adjust its color.\n",
    "\n",
    "![Cube](./Images/diffuse.gif)\n",
    "\n",
    "**Goal: render a spinning with some basic diffuse lighting**"
   ]
  },
  {
   "cell_type": "code",
   "execution_count": null,
   "metadata": {},
   "outputs": [],
   "source": []
  }
 ],
 "metadata": {
  "kernelspec": {
   "display_name": "Python 3",
   "language": "python",
   "name": "python3"
  },
  "language_info": {
   "codemirror_mode": {
    "name": "ipython",
    "version": 3
   },
   "file_extension": ".py",
   "mimetype": "text/x-python",
   "name": "python",
   "nbconvert_exporter": "python",
   "pygments_lexer": "ipython3",
   "version": "3.7.3"
  }
 },
 "nbformat": 4,
 "nbformat_minor": 4
}
